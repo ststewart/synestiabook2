{
 "cells": [
  {
   "cell_type": "markdown",
   "metadata": {},
   "source": [
    "# About this book\n",
    "\n",
    "The github repository for this book is [https://github.com/ststewart/synestiabook2](https://github.com/ststewart/synestiabook2).<p>\n",
    "    \n",
    "This work is distributed under the MIT license:\n",
    "    \n",
    "```\n",
    "MIT License\n",
    "\n",
    "Copyright (c) 2020 Gigja Hollyday\n",
    "\n",
    "Permission is hereby granted, free of charge, to any person obtaining a copy\n",
    "of this software and associated documentation files (the \"Software\"), to deal\n",
    "in the Software without restriction, including without limitation the rights\n",
    "to use, copy, modify, merge, publish, distribute, sublicense, and/or sell\n",
    "copies of the Software, and to permit persons to whom the Software is\n",
    "furnished to do so, subject to the following conditions:\n",
    "\n",
    "The above copyright notice and this permission notice shall be included in all\n",
    "copies or substantial portions of the Software.\n",
    "\n",
    "THE SOFTWARE IS PROVIDED \"AS IS\", WITHOUT WARRANTY OF ANY KIND, EXPRESS OR\n",
    "IMPLIED, INCLUDING BUT NOT LIMITED TO THE WARRANTIES OF MERCHANTABILITY,\n",
    "FITNESS FOR A PARTICULAR PURPOSE AND NONINFRINGEMENT. IN NO EVENT SHALL THE\n",
    "AUTHORS OR COPYRIGHT HOLDERS BE LIABLE FOR ANY CLAIM, DAMAGES OR OTHER\n",
    "LIABILITY, WHETHER IN AN ACTION OF CONTRACT, TORT OR OTHERWISE, ARISING FROM,\n",
    "OUT OF OR IN CONNECTION WITH THE SOFTWARE OR THE USE OR OTHER DEALINGS IN THE\n",
    "SOFTWARE.\n",
    "```\n",
    "\n"
   ]
  },
  {
   "cell_type": "markdown",
   "metadata": {},
   "source": [
    "This book was compiled using the following python ecosystem:"
   ]
  },
  {
   "cell_type": "code",
   "execution_count": 7,
   "metadata": {
    "tags": [
     "hide-input"
    ]
   },
   "outputs": [
    {
     "name": "stdout",
     "output_type": "stream",
     "text": [
      "python version:  3.7.9\n",
      "matplotlib version:  3.3.1\n",
      "numpy version:  1.19.1\n",
      "scipy version:  1.5.2\n",
      "rebound version:  3.12.1\n",
      "ipywidgets version:  7.5.1\n",
      "Jupyter Book: 0.8.2\n",
      "MyST-NB: 0.10.1\n",
      "Sphinx Book Theme: 0.0.37\n",
      "MyST-Parser: 0.12.10\n",
      "Jupyter-Cache: 0.4.1\n",
      "NbClient: 0.5.0\n"
     ]
    }
   ],
   "source": [
    "# Record the verions information for this book for posterity\n",
    "import platform\n",
    "print('python version: ',platform.python_version())\n",
    "del platform\n",
    "import matplotlib\n",
    "print('matplotlib version: ', matplotlib.__version__)\n",
    "del matplotlib\n",
    "import numpy\n",
    "print('numpy version: ', numpy.__version__)\n",
    "del numpy\n",
    "import scipy\n",
    "print('scipy version: ', scipy.__version__)\n",
    "del scipy\n",
    "import rebound\n",
    "print('rebound version: ', rebound.__version__)\n",
    "del rebound\n",
    "import ipywidgets\n",
    "print('ipywidgets version: ', ipywidgets.__version__)\n",
    "del ipywidgets\n",
    "!jupyter-book --version\n"
   ]
  },
  {
   "cell_type": "code",
   "execution_count": null,
   "metadata": {},
   "outputs": [],
   "source": []
  }
 ],
 "metadata": {
  "kernelspec": {
   "display_name": "Python 3",
   "language": "python",
   "name": "python3"
  },
  "language_info": {
   "codemirror_mode": {
    "name": "ipython",
    "version": 3
   },
   "file_extension": ".py",
   "mimetype": "text/x-python",
   "name": "python",
   "nbconvert_exporter": "python",
   "pygments_lexer": "ipython3",
   "version": "3.7.9"
  }
 },
 "nbformat": 4,
 "nbformat_minor": 4
}
