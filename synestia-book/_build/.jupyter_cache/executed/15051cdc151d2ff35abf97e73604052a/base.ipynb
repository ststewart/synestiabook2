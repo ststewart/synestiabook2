{
 "cells": [
  {
   "cell_type": "code",
   "execution_count": 1,
   "metadata": {
    "tags": [
     "hide-input"
    ]
   },
   "outputs": [],
   "source": [
    "#Dear Reader: If using CoLab, remove the # from the line below and shift-return to install rebound\n",
    "#!pip install rebound"
   ]
  },
  {
   "cell_type": "code",
   "execution_count": 2,
   "metadata": {
    "slideshow": {
     "slide_type": "fragment"
    },
    "tags": [
     "hide-input"
    ]
   },
   "outputs": [
    {
     "data": {
      "application/vnd.jupyter.widget-view+json": {
       "model_id": "05976b49eb394ce18a38c4366645aa66",
       "version_major": 2,
       "version_minor": 0
      },
      "text/plain": [
       "interactive(children=(Dropdown(description='Change in mass of planet (kg)', index=5, options=(('-50% Earth', -…"
      ]
     },
     "metadata": {},
     "output_type": "display_data"
    },
    {
     "data": {
      "text/plain": [
       "<function __main__.pltAM(delmass, inclin, ecc)>"
      ]
     },
     "execution_count": 2,
     "metadata": {},
     "output_type": "execute_result"
    }
   ],
   "source": [
    "#interactive playing with moon (changing mass, radius, velocity)\n",
    "\n",
    "import rebound\n",
    "from ipywidgets import *\n",
    "import math\n",
    "\n",
    "AM = 4.5e9 #roughly current AM of Earth in Msun au^2 yr^-1\n",
    "M_sun = 1.99e30 #kg solar mass as central body\n",
    "\n",
    "def pltAM(delmass,inclin,ecc):\n",
    "    mass = (delmass + 1e24)/M_sun\n",
    "    mass_Earth = 1e24/M_sun\n",
    "    sim = rebound.Simulation()\n",
    "    sim.units = ('yr', 'AU', 'Msun') #use astronomical units\n",
    "    sma = (AM**2)/(sim.G*M_sun*(mass**2)) #calculate semi-major axis\n",
    "    sma_Earth = (AM**2)/(sim.G*M_sun*(mass_Earth**2)) #calculate semi-major axis\n",
    "    sim.add(m=1) #solar mass as central body\n",
    "    sim.add(m=mass_Earth,a=sma_Earth,e=ecc,inc=inclin) #add Earth\n",
    "    sim.add(m=mass,a=sma,e=ecc,inc=inclin) #add planet\n",
    "    sim.move_to_com()\n",
    "    fig,ax,ax2,ax3 = rebound.OrbitPlot(sim,color=True,unitlabel=\"[au]\",slices=1)\n",
    "    if sma < sma_Earth:\n",
    "        limit = 2.*sma_Earth\n",
    "    else:\n",
    "        limit = 2.*sma\n",
    "    ax.set_xlim([-limit,limit])\n",
    "    ax.set_ylim([-limit,limit])\n",
    "    ax2.set_xlim([-limit,limit])\n",
    "    ax2.set_ylim([-limit,limit])\n",
    "    ax3.set_xlim([-limit,limit])\n",
    "    ax3.set_ylim([-limit,limit])\n",
    "    ps=sim.particles\n",
    "    print('The orbit of an Earth-mass planet is shown in red.')\n",
    "    if delmass > 0:\n",
    "        print('The enlarged-mass planet (cyan) has an orbital period of {0:.2f} years.'.format(ps[2].P))\n",
    "    else:\n",
    "        print('The reduced-mass planet (cyan) has an orbital period of {0:.2f} years.'.format(ps[2].P))\n",
    "\n",
    "style = {'description_width': 'initial'}\n",
    "layout = {'width': '400px'}\n",
    "#mass is in kg\n",
    "interact(pltAM,\n",
    "        delmass = widgets.Dropdown(\n",
    "             options=[('-50% Earth', -5e23),\n",
    "                      ('-40% Earth', -4e23),\n",
    "                      ('-30% Earth', -3e23),\n",
    "                      ('-20% Earth', -2e23),\n",
    "                      ('-10% Earth', -1e23),\n",
    "                      ('+10% Earth', 1e23),\n",
    "                      ('+20% Earth', 2e23),\n",
    "                      ('+30% Earth', 3e23),\n",
    "                      ('+40% Earth', 4e23),\n",
    "                      ('+50% Earth', 5e23)],\n",
    "             value=1e23, description='Change in mass of planet (kg)', style=style),\n",
    "        inclin = FloatSlider(value=0, max=math.pi, step=0.2, description='Inclination of orbit (radians)',\n",
    "                        continuous_update=False, readout=True, readout_format='.1f', style=style, layout=layout),\n",
    "        ecc = FloatSlider(value=0, max=0.9, step=0.1, description='Eccentricity of orbit (unitless)',\n",
    "                        continuous_update=False, readout=True, readout_format='.1f', style=style, layout=layout),\n",
    "        )"
   ]
  },
  {
   "cell_type": "code",
   "execution_count": 3,
   "metadata": {
    "tags": [
     "hide-input"
    ]
   },
   "outputs": [
    {
     "data": {
      "image/jpeg": "[encoded data removed]",
      "text/html": [
       "\n",
       "        <iframe\n",
       "            width=\"640\"\n",
       "            height=\"360\"\n",
       "            src=\"https://www.youtube.com/embed/WjFdKFbMrAY\"\n",
       "            frameborder=\"0\"\n",
       "            allowfullscreen\n",
       "        ></iframe>\n",
       "        "
      ],
      "text/plain": [
       "<IPython.lib.display.YouTubeVideo at 0x7ff1a81c6ed0>"
      ]
     },
     "execution_count": 3,
     "metadata": {},
     "output_type": "execute_result"
    }
   ],
   "source": [
    "from IPython.display import YouTubeVideo\n",
    "YouTubeVideo('WjFdKFbMrAY', width=640, height=360)"
   ]
  }
 ],
 "metadata": {
  "kernelspec": {
   "display_name": "Python 3",
   "language": "python",
   "name": "python3"
  },
  "language_info": {
   "codemirror_mode": {
    "name": "ipython",
    "version": 3
   },
   "file_extension": ".py",
   "mimetype": "text/x-python",
   "name": "python",
   "nbconvert_exporter": "python",
   "pygments_lexer": "ipython3",
   "version": "3.7.9"
  },
  "widgets": {
   "application/vnd.jupyter.widget-state+json": {
    "state": {
     "0090b388183f456a9d8c22512d3a5ae2": {
      "model_module": "@jupyter-widgets/controls",
      "model_module_version": "1.5.0",
      "model_name": "SliderStyleModel",
      "state": {
       "_model_module": "@jupyter-widgets/controls",
       "_model_module_version": "1.5.0",
       "_model_name": "SliderStyleModel",
       "_view_count": null,
       "_view_module": "@jupyter-widgets/base",
       "_view_module_version": "1.2.0",
       "_view_name": "StyleView",
       "description_width": "initial",
       "handle_color": null
      }
     },
     "05976b49eb394ce18a38c4366645aa66": {
      "model_module": "@jupyter-widgets/controls",
      "model_module_version": "1.5.0",
      "model_name": "VBoxModel",
      "state": {
       "_dom_classes": [
        "widget-interact"
       ],
       "_model_module": "@jupyter-widgets/controls",
       "_model_module_version": "1.5.0",
       "_model_name": "VBoxModel",
       "_view_count": null,
       "_view_module": "@jupyter-widgets/controls",
       "_view_module_version": "1.5.0",
       "_view_name": "VBoxView",
       "box_style": "",
       "children": [
        "IPY_MODEL_5b226df51dd44ebda2648aea4b93f254",
        "IPY_MODEL_f6d0aa1a7ed24642a7b5a9bc1496f3ed",
        "IPY_MODEL_5b57d21069ea46729bcd277ca38e51b1",
        "IPY_MODEL_e0af8889e7c74e268922c1f6a49fc8e2"
       ],
       "layout": "IPY_MODEL_8561a8f736cf4d8eb3044a5f9de2dee0"
      }
     },
     "14f9b33f7e3740ed8603a7cdebfb26c0": {
      "model_module": "@jupyter-widgets/base",
      "model_module_version": "1.2.0",
      "model_name": "LayoutModel",
      "state": {
       "_model_module": "@jupyter-widgets/base",
       "_model_module_version": "1.2.0",
       "_model_name": "LayoutModel",
       "_view_count": null,
       "_view_module": "@jupyter-widgets/base",
       "_view_module_version": "1.2.0",
       "_view_name": "LayoutView",
       "align_content": null,
       "align_items": null,
       "align_self": null,
       "border": null,
       "bottom": null,
       "display": null,
       "flex": null,
       "flex_flow": null,
       "grid_area": null,
       "grid_auto_columns": null,
       "grid_auto_flow": null,
       "grid_auto_rows": null,
       "grid_column": null,
       "grid_gap": null,
       "grid_row": null,
       "grid_template_areas": null,
       "grid_template_columns": null,
       "grid_template_rows": null,
       "height": null,
       "justify_content": null,
       "justify_items": null,
       "left": null,
       "margin": null,
       "max_height": null,
       "max_width": null,
       "min_height": null,
       "min_width": null,
       "object_fit": null,
       "object_position": null,
       "order": null,
       "overflow": null,
       "overflow_x": null,
       "overflow_y": null,
       "padding": null,
       "right": null,
       "top": null,
       "visibility": null,
       "width": null
      }
     },
     "48cc54132b6d4595b5fe4db6cd8cacf6": {
      "model_module": "@jupyter-widgets/base",
      "model_module_version": "1.2.0",
      "model_name": "LayoutModel",
      "state": {
       "_model_module": "@jupyter-widgets/base",
       "_model_module_version": "1.2.0",
       "_model_name": "LayoutModel",
       "_view_count": null,
       "_view_module": "@jupyter-widgets/base",
       "_view_module_version": "1.2.0",
       "_view_name": "LayoutView",
       "align_content": null,
       "align_items": null,
       "align_self": null,
       "border": null,
       "bottom": null,
       "display": null,
       "flex": null,
       "flex_flow": null,
       "grid_area": null,
       "grid_auto_columns": null,
       "grid_auto_flow": null,
       "grid_auto_rows": null,
       "grid_column": null,
       "grid_gap": null,
       "grid_row": null,
       "grid_template_areas": null,
       "grid_template_columns": null,
       "grid_template_rows": null,
       "height": null,
       "justify_content": null,
       "justify_items": null,
       "left": null,
       "margin": null,
       "max_height": null,
       "max_width": null,
       "min_height": null,
       "min_width": null,
       "object_fit": null,
       "object_position": null,
       "order": null,
       "overflow": null,
       "overflow_x": null,
       "overflow_y": null,
       "padding": null,
       "right": null,
       "top": null,
       "visibility": null,
       "width": "400px"
      }
     },
     "52f1a6f121e4433699eb32f817da2b5b": {
      "model_module": "@jupyter-widgets/base",
      "model_module_version": "1.2.0",
      "model_name": "LayoutModel",
      "state": {
       "_model_module": "@jupyter-widgets/base",
       "_model_module_version": "1.2.0",
       "_model_name": "LayoutModel",
       "_view_count": null,
       "_view_module": "@jupyter-widgets/base",
       "_view_module_version": "1.2.0",
       "_view_name": "LayoutView",
       "align_content": null,
       "align_items": null,
       "align_self": null,
       "border": null,
       "bottom": null,
       "display": null,
       "flex": null,
       "flex_flow": null,
       "grid_area": null,
       "grid_auto_columns": null,
       "grid_auto_flow": null,
       "grid_auto_rows": null,
       "grid_column": null,
       "grid_gap": null,
       "grid_row": null,
       "grid_template_areas": null,
       "grid_template_columns": null,
       "grid_template_rows": null,
       "height": null,
       "justify_content": null,
       "justify_items": null,
       "left": null,
       "margin": null,
       "max_height": null,
       "max_width": null,
       "min_height": null,
       "min_width": null,
       "object_fit": null,
       "object_position": null,
       "order": null,
       "overflow": null,
       "overflow_x": null,
       "overflow_y": null,
       "padding": null,
       "right": null,
       "top": null,
       "visibility": null,
       "width": null
      }
     },
     "5b226df51dd44ebda2648aea4b93f254": {
      "model_module": "@jupyter-widgets/controls",
      "model_module_version": "1.5.0",
      "model_name": "DropdownModel",
      "state": {
       "_dom_classes": [],
       "_model_module": "@jupyter-widgets/controls",
       "_model_module_version": "1.5.0",
       "_model_name": "DropdownModel",
       "_options_labels": [
        "-50% Earth",
        "-40% Earth",
        "-30% Earth",
        "-20% Earth",
        "-10% Earth",
        "+10% Earth",
        "+20% Earth",
        "+30% Earth",
        "+40% Earth",
        "+50% Earth"
       ],
       "_view_count": null,
       "_view_module": "@jupyter-widgets/controls",
       "_view_module_version": "1.5.0",
       "_view_name": "DropdownView",
       "description": "Change in mass of planet (kg)",
       "description_tooltip": null,
       "disabled": false,
       "index": 5,
       "layout": "IPY_MODEL_52f1a6f121e4433699eb32f817da2b5b",
       "style": "IPY_MODEL_da30f1d290694f99858814897761be0a"
      }
     },
     "5b57d21069ea46729bcd277ca38e51b1": {
      "model_module": "@jupyter-widgets/controls",
      "model_module_version": "1.5.0",
      "model_name": "FloatSliderModel",
      "state": {
       "_dom_classes": [],
       "_model_module": "@jupyter-widgets/controls",
       "_model_module_version": "1.5.0",
       "_model_name": "FloatSliderModel",
       "_view_count": null,
       "_view_module": "@jupyter-widgets/controls",
       "_view_module_version": "1.5.0",
       "_view_name": "FloatSliderView",
       "continuous_update": false,
       "description": "Eccentricity of orbit (unitless)",
       "description_tooltip": null,
       "disabled": false,
       "layout": "IPY_MODEL_a91b8606637145048308275b2e982c66",
       "max": 0.9,
       "min": 0.0,
       "orientation": "horizontal",
       "readout": true,
       "readout_format": ".1f",
       "step": 0.1,
       "style": "IPY_MODEL_7aaef20d4cb642bc9e187aba18a12bda",
       "value": 0.0
      }
     },
     "7aaef20d4cb642bc9e187aba18a12bda": {
      "model_module": "@jupyter-widgets/controls",
      "model_module_version": "1.5.0",
      "model_name": "SliderStyleModel",
      "state": {
       "_model_module": "@jupyter-widgets/controls",
       "_model_module_version": "1.5.0",
       "_model_name": "SliderStyleModel",
       "_view_count": null,
       "_view_module": "@jupyter-widgets/base",
       "_view_module_version": "1.2.0",
       "_view_name": "StyleView",
       "description_width": "initial",
       "handle_color": null
      }
     },
     "8561a8f736cf4d8eb3044a5f9de2dee0": {
      "model_module": "@jupyter-widgets/base",
      "model_module_version": "1.2.0",
      "model_name": "LayoutModel",
      "state": {
       "_model_module": "@jupyter-widgets/base",
       "_model_module_version": "1.2.0",
       "_model_name": "LayoutModel",
       "_view_count": null,
       "_view_module": "@jupyter-widgets/base",
       "_view_module_version": "1.2.0",
       "_view_name": "LayoutView",
       "align_content": null,
       "align_items": null,
       "align_self": null,
       "border": null,
       "bottom": null,
       "display": null,
       "flex": null,
       "flex_flow": null,
       "grid_area": null,
       "grid_auto_columns": null,
       "grid_auto_flow": null,
       "grid_auto_rows": null,
       "grid_column": null,
       "grid_gap": null,
       "grid_row": null,
       "grid_template_areas": null,
       "grid_template_columns": null,
       "grid_template_rows": null,
       "height": null,
       "justify_content": null,
       "justify_items": null,
       "left": null,
       "margin": null,
       "max_height": null,
       "max_width": null,
       "min_height": null,
       "min_width": null,
       "object_fit": null,
       "object_position": null,
       "order": null,
       "overflow": null,
       "overflow_x": null,
       "overflow_y": null,
       "padding": null,
       "right": null,
       "top": null,
       "visibility": null,
       "width": null
      }
     },
     "a91b8606637145048308275b2e982c66": {
      "model_module": "@jupyter-widgets/base",
      "model_module_version": "1.2.0",
      "model_name": "LayoutModel",
      "state": {
       "_model_module": "@jupyter-widgets/base",
       "_model_module_version": "1.2.0",
       "_model_name": "LayoutModel",
       "_view_count": null,
       "_view_module": "@jupyter-widgets/base",
       "_view_module_version": "1.2.0",
       "_view_name": "LayoutView",
       "align_content": null,
       "align_items": null,
       "align_self": null,
       "border": null,
       "bottom": null,
       "display": null,
       "flex": null,
       "flex_flow": null,
       "grid_area": null,
       "grid_auto_columns": null,
       "grid_auto_flow": null,
       "grid_auto_rows": null,
       "grid_column": null,
       "grid_gap": null,
       "grid_row": null,
       "grid_template_areas": null,
       "grid_template_columns": null,
       "grid_template_rows": null,
       "height": null,
       "justify_content": null,
       "justify_items": null,
       "left": null,
       "margin": null,
       "max_height": null,
       "max_width": null,
       "min_height": null,
       "min_width": null,
       "object_fit": null,
       "object_position": null,
       "order": null,
       "overflow": null,
       "overflow_x": null,
       "overflow_y": null,
       "padding": null,
       "right": null,
       "top": null,
       "visibility": null,
       "width": "400px"
      }
     },
     "da30f1d290694f99858814897761be0a": {
      "model_module": "@jupyter-widgets/controls",
      "model_module_version": "1.5.0",
      "model_name": "DescriptionStyleModel",
      "state": {
       "_model_module": "@jupyter-widgets/controls",
       "_model_module_version": "1.5.0",
       "_model_name": "DescriptionStyleModel",
       "_view_count": null,
       "_view_module": "@jupyter-widgets/base",
       "_view_module_version": "1.2.0",
       "_view_name": "StyleView",
       "description_width": "initial"
      }
     },
     "e0af8889e7c74e268922c1f6a49fc8e2": {
      "model_module": "@jupyter-widgets/output",
      "model_module_version": "1.0.0",
      "model_name": "OutputModel",
      "state": {
       "_dom_classes": [],
       "_model_module": "@jupyter-widgets/output",
       "_model_module_version": "1.0.0",
       "_model_name": "OutputModel",
       "_view_count": null,
       "_view_module": "@jupyter-widgets/output",
       "_view_module_version": "1.0.0",
       "_view_name": "OutputView",
       "layout": "IPY_MODEL_14f9b33f7e3740ed8603a7cdebfb26c0",
       "msg_id": "",
       "outputs": [
        {
         "name": "stderr",
         "output_type": "stream",
         "text": "/Users/sstewart/anaconda3/lib/python3.7/site-packages/rebound/plotting.py:81: MatplotlibDeprecationWarning: In a future version, 'pad' will default to rcParams['figure.subplot.hspace'].  Set pad=0 to keep the old behavior.\n  ax_top   = divider.append_axes(\"top\",  size=\"%.2f%%\"%(100.*slices), sharex=ax_main)\n/Users/sstewart/anaconda3/lib/python3.7/site-packages/rebound/plotting.py:83: MatplotlibDeprecationWarning: In a future version, 'pad' will default to rcParams['figure.subplot.wspace'].  Set pad=0 to keep the old behavior.\n  ax_right = divider.append_axes(\"right\", size=\"%.2f%%\"%(100.*slices), sharey=ax_main)\n"
        },
        {
         "name": "stdout",
         "output_type": "stream",
         "text": "The orbit of an Earth-mass planet is shown in red.\nThe enlarged-mass planet (cyan) has an orbital period of 0.77 years.\n"
        },
        {
         "data": {
          "image/png": "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\n",
          "text/plain": "<Figure size 576x576 with 3 Axes>"
         },
         "metadata": {
          "needs_background": "light"
         },
         "output_type": "display_data"
        }
       ]
      }
     },
     "f6d0aa1a7ed24642a7b5a9bc1496f3ed": {
      "model_module": "@jupyter-widgets/controls",
      "model_module_version": "1.5.0",
      "model_name": "FloatSliderModel",
      "state": {
       "_dom_classes": [],
       "_model_module": "@jupyter-widgets/controls",
       "_model_module_version": "1.5.0",
       "_model_name": "FloatSliderModel",
       "_view_count": null,
       "_view_module": "@jupyter-widgets/controls",
       "_view_module_version": "1.5.0",
       "_view_name": "FloatSliderView",
       "continuous_update": false,
       "description": "Inclination of orbit (radians)",
       "description_tooltip": null,
       "disabled": false,
       "layout": "IPY_MODEL_48cc54132b6d4595b5fe4db6cd8cacf6",
       "max": 3.141592653589793,
       "min": 0.0,
       "orientation": "horizontal",
       "readout": true,
       "readout_format": ".1f",
       "step": 0.2,
       "style": "IPY_MODEL_0090b388183f456a9d8c22512d3a5ae2",
       "value": 0.0
      }
     }
    },
    "version_major": 2,
    "version_minor": 0
   }
  }
 },
 "nbformat": 4,
 "nbformat_minor": 4
}