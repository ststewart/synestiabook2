{
 "cells": [
  {
   "cell_type": "code",
   "execution_count": 1,
   "metadata": {
    "tags": [
     "hide-input"
    ]
   },
   "outputs": [
    {
     "name": "stdout",
     "output_type": "stream",
     "text": [
      "python version:  3.7.9\n",
      "matplotlib version:  3.3.1\n",
      "numpy version:  1.19.1\n",
      "scipy version:  1.5.2\n"
     ]
    },
    {
     "name": "stdout",
     "output_type": "stream",
     "text": [
      "rebound version:  3.12.1\n",
      "ipywidgets version:  7.5.1\n"
     ]
    },
    {
     "name": "stdout",
     "output_type": "stream",
     "text": [
      "Jupyter Book: 0.8.2\r\n",
      "MyST-NB: 0.10.1\r\n",
      "Sphinx Book Theme: 0.0.37\r\n",
      "MyST-Parser: 0.12.10\r\n",
      "Jupyter-Cache: 0.4.1\r\n",
      "NbClient: 0.5.0\r\n"
     ]
    }
   ],
   "source": [
    "# Record the verions information for this book for posterity\n",
    "import platform\n",
    "print('python version: ',platform.python_version())\n",
    "del platform\n",
    "import matplotlib\n",
    "print('matplotlib version: ', matplotlib.__version__)\n",
    "del matplotlib\n",
    "import numpy\n",
    "print('numpy version: ', numpy.__version__)\n",
    "del numpy\n",
    "import scipy\n",
    "print('scipy version: ', scipy.__version__)\n",
    "del scipy\n",
    "import rebound\n",
    "print('rebound version: ', rebound.__version__)\n",
    "del rebound\n",
    "import ipywidgets\n",
    "print('ipywidgets version: ', ipywidgets.__version__)\n",
    "del ipywidgets\n",
    "!jupyter-book --version\n"
   ]
  },
  {
   "cell_type": "code",
   "execution_count": 2,
   "metadata": {
    "tags": [
     "hide-input"
    ]
   },
   "outputs": [
    {
     "name": "stdout",
     "output_type": "stream",
     "text": [
      "Sat Oct 17 13:15:01 PDT 2020\r\n"
     ]
    }
   ],
   "source": [
    "!date"
   ]
  },
  {
   "cell_type": "code",
   "execution_count": null,
   "metadata": {},
   "outputs": [],
   "source": []
  }
 ],
 "metadata": {
  "kernelspec": {
   "display_name": "Python 3",
   "language": "python",
   "name": "python3"
  },
  "language_info": {
   "codemirror_mode": {
    "name": "ipython",
    "version": 3
   },
   "file_extension": ".py",
   "mimetype": "text/x-python",
   "name": "python",
   "nbconvert_exporter": "python",
   "pygments_lexer": "ipython3",
   "version": "3.7.9"
  }
 },
 "nbformat": 4,
 "nbformat_minor": 4
}